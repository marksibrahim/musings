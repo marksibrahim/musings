{
 "cells": [
  {
   "cell_type": "markdown",
   "metadata": {
    "deletable": true,
    "editable": true
   },
   "source": [
    "# Beautiful JavaScript Charts in Jupyter Notebooks"
   ]
  },
  {
   "cell_type": "markdown",
   "metadata": {
    "deletable": true,
    "editable": true
   },
   "source": [
    "Jupyter Notebooks tell stories by blending explanations, visualizations, and the code producing them. In my opinion, the most compelling charts are interactiveFor simple, plots [iPlotter](https://github.com/niloch/iplotter) brings the latest D3.js and canvas charting libraries to Jupyter Notebooks using native python data structures. iPlotter integrates with C3.js, plotly.js, Chart.js, Chartist.js, and Google Charts. \n",
    "\n",
    "To get started:\n",
    "\n",
    "```bash\n",
    "$ pip install iplotter\n",
    "```\n",
    "\n",
    "When this fails, you can directly render JavaScript by passing Python data structures either as strings or through dictionaries as json. "
   ]
  },
  {
   "cell_type": "code",
   "execution_count": 130,
   "metadata": {
    "collapsed": true,
    "deletable": true,
    "editable": true
   },
   "outputs": [],
   "source": [
    "import iplotter\n",
    "from IPython.core.display import HTML"
   ]
  },
  {
   "cell_type": "markdown",
   "metadata": {
    "deletable": true,
    "editable": true
   },
   "source": [
    "Before we dive in to the charts, let's adjust the iframe style jupyter notebooks use so charts render more cleanly."
   ]
  },
  {
   "cell_type": "code",
   "execution_count": 132,
   "metadata": {
    "collapsed": false,
    "deletable": true,
    "editable": true
   },
   "outputs": [
    {
     "data": {
      "text/html": [
       "\n",
       "<style>\n",
       "iframe {border:0;}\n",
       "div.text_cell_render {font-size: 1.3em;}\n",
       "</style>\n"
      ],
      "text/plain": [
       "<IPython.core.display.HTML object>"
      ]
     },
     "execution_count": 132,
     "metadata": {},
     "output_type": "execute_result"
    }
   ],
   "source": [
    "# remove iFrame border for cleaner chart rendering\n",
    "# increase size of text explanations\n",
    "HTML(\"\"\"\n",
    "<style>\n",
    "iframe {border:0;}\n",
    "div.text_cell_render {font-size: 1.3em;}\n",
    "</style>\n",
    "\"\"\")"
   ]
  },
  {
   "cell_type": "markdown",
   "metadata": {
    "deletable": true,
    "editable": true
   },
   "source": [
    "To use iPlotter, select your JavaScript charting library of choice. Then, pass a python data structure in a format corresponding to the json the library expects. "
   ]
  },
  {
   "cell_type": "markdown",
   "metadata": {
    "deletable": true,
    "editable": true
   },
   "source": [
    "## C3.js"
   ]
  },
  {
   "cell_type": "code",
   "execution_count": 133,
   "metadata": {
    "code_folding": [
     2,
     17
    ],
    "collapsed": false,
    "deletable": true,
    "editable": true
   },
   "outputs": [],
   "source": [
    "chart = {\n",
    "    \"data\": {\n",
    "        \"columns\": [\n",
    "            [\"setosa_x\", 3.5, 3.0, 3.2, 3.1, 3.6, 3.9, 3.4, 3.4, 2.9, 3.1, 3.7, 3.4, 3.0, 3.0, 4.0, 4.4, 3.9, 3.5, 3.8, 3.8, 3.4, 3.7, 3.6, 3.3, 3.4, 3.0, 3.4, 3.5, 3.4, 3.2, 3.1, 3.4, 4.1, 4.2, 3.1, 3.2, 3.5, 3.6, 3.0, 3.4, 3.5, 2.3, 3.2, 3.5, 3.8, 3.0, 3.8, 3.2, 3.7, 3.3],\n",
    "            [\"versicolor_x\", 3.2, 3.2, 3.1, 2.3, 2.8, 2.8, 3.3, 2.4, 2.9, 2.7, 2.0, 3.0, 2.2, 2.9, 2.9, 3.1, 3.0, 2.7, 2.2, 2.5, 3.2, 2.8, 2.5, 2.8, 2.9, 3.0, 2.8, 3.0, 2.9, 2.6, 2.4, 2.4, 2.7, 2.7, 3.0, 3.4, 3.1, 2.3, 3.0, 2.5, 2.6, 3.0, 2.6, 2.3, 2.7, 3.0, 2.9, 2.9, 2.5, 2.8],\n",
    "            [\"setosa\", 0.2, 0.2, 0.2, 0.2, 0.2, 0.4, 0.3, 0.2, 0.2, 0.1, 0.2, 0.2, 0.1, 0.1, 0.2, 0.4, 0.4, 0.3, 0.3, 0.3, 0.2, 0.4, 0.2, 0.5, 0.2, 0.2, 0.4, 0.2, 0.2, 0.2, 0.2, 0.4, 0.1, 0.2, 0.2, 0.2, 0.2, 0.1, 0.2, 0.2, 0.3, 0.3, 0.2, 0.6, 0.4, 0.3, 0.2, 0.2, 0.2, 0.2],\n",
    "            [\"versicolor\", 1.4, 1.5, 1.5, 1.3, 1.5, 1.3, 1.6, 1.0, 1.3, 1.4, 1.0, 1.5, 1.0, 1.4, 1.3, 1.4, 1.5, 1.0, 1.5, 1.1, 1.8, 1.3, 1.5, 1.2, 1.3, 1.4, 1.4, 1.7, 1.5, 1.0, 1.1, 1.0, 1.2, 1.6, 1.5, 1.6, 1.5, 1.3, 1.3, 1.3, 1.2, 1.4, 1.2, 1.0, 1.3, 1.2, 1.3, 1.3, 1.1, 1.3]\n",
    "        ],\n",
    "     \"type\": 'scatter'\n",
    "            },\n",
    "    \"axis\": {\n",
    "        \"x\": {\n",
    "            \"label\": 'Sepal.Width',\n",
    "            \"tick\": {\n",
    "                \"fit\": \"false\"\n",
    "            }\n",
    "        },\n",
    "        \"y\": {\n",
    "            \"label\": 'Petal.Width'\n",
    "        }\n",
    "    }\n",
    "}"
   ]
  },
  {
   "cell_type": "code",
   "execution_count": 134,
   "metadata": {
    "collapsed": false,
    "deletable": true,
    "editable": true
   },
   "outputs": [
    {
     "data": {
      "text/html": [
       "<iframe srcdoc=\"\n",
       "            <!-- Load c3.css -->\n",
       "            <link href='https://cdnjs.cloudflare.com/ajax/libs/c3/0.4.10/c3.min.css' rel='stylesheet' type='text/css'/>\n",
       "\n",
       "            <!-- Load d3.js and c3.js -->\n",
       "            <script src='http://d3js.org/d3.v3.min.js' charset='utf-8'></script>\n",
       "            <script src='http://cdnjs.cloudflare.com/ajax/libs/c3/0.4.10/c3.min.js'></script>\n",
       "\n",
       "        \n",
       "            <div id=chart style='width: 100%; height: 100%'></div>\n",
       "            <script>\n",
       "                var chart = document.getElementById('chart');\n",
       "                var data = {\n",
       "    'axis': {\n",
       "        'y': {\n",
       "            'label': 'Petal.Width'\n",
       "        },\n",
       "        'x': {\n",
       "            'tick': {\n",
       "                'fit': 'false'\n",
       "            },\n",
       "            'label': 'Sepal.Width'\n",
       "        }\n",
       "    },\n",
       "    'data': {\n",
       "        'type': 'scatter',\n",
       "        'columns': [\n",
       "            [\n",
       "                'setosa_x',\n",
       "                3.5,\n",
       "                3.0,\n",
       "                3.2,\n",
       "                3.1,\n",
       "                3.6,\n",
       "                3.9,\n",
       "                3.4,\n",
       "                3.4,\n",
       "                2.9,\n",
       "                3.1,\n",
       "                3.7,\n",
       "                3.4,\n",
       "                3.0,\n",
       "                3.0,\n",
       "                4.0,\n",
       "                4.4,\n",
       "                3.9,\n",
       "                3.5,\n",
       "                3.8,\n",
       "                3.8,\n",
       "                3.4,\n",
       "                3.7,\n",
       "                3.6,\n",
       "                3.3,\n",
       "                3.4,\n",
       "                3.0,\n",
       "                3.4,\n",
       "                3.5,\n",
       "                3.4,\n",
       "                3.2,\n",
       "                3.1,\n",
       "                3.4,\n",
       "                4.1,\n",
       "                4.2,\n",
       "                3.1,\n",
       "                3.2,\n",
       "                3.5,\n",
       "                3.6,\n",
       "                3.0,\n",
       "                3.4,\n",
       "                3.5,\n",
       "                2.3,\n",
       "                3.2,\n",
       "                3.5,\n",
       "                3.8,\n",
       "                3.0,\n",
       "                3.8,\n",
       "                3.2,\n",
       "                3.7,\n",
       "                3.3\n",
       "            ],\n",
       "            [\n",
       "                'versicolor_x',\n",
       "                3.2,\n",
       "                3.2,\n",
       "                3.1,\n",
       "                2.3,\n",
       "                2.8,\n",
       "                2.8,\n",
       "                3.3,\n",
       "                2.4,\n",
       "                2.9,\n",
       "                2.7,\n",
       "                2.0,\n",
       "                3.0,\n",
       "                2.2,\n",
       "                2.9,\n",
       "                2.9,\n",
       "                3.1,\n",
       "                3.0,\n",
       "                2.7,\n",
       "                2.2,\n",
       "                2.5,\n",
       "                3.2,\n",
       "                2.8,\n",
       "                2.5,\n",
       "                2.8,\n",
       "                2.9,\n",
       "                3.0,\n",
       "                2.8,\n",
       "                3.0,\n",
       "                2.9,\n",
       "                2.6,\n",
       "                2.4,\n",
       "                2.4,\n",
       "                2.7,\n",
       "                2.7,\n",
       "                3.0,\n",
       "                3.4,\n",
       "                3.1,\n",
       "                2.3,\n",
       "                3.0,\n",
       "                2.5,\n",
       "                2.6,\n",
       "                3.0,\n",
       "                2.6,\n",
       "                2.3,\n",
       "                2.7,\n",
       "                3.0,\n",
       "                2.9,\n",
       "                2.9,\n",
       "                2.5,\n",
       "                2.8\n",
       "            ],\n",
       "            [\n",
       "                'setosa',\n",
       "                0.2,\n",
       "                0.2,\n",
       "                0.2,\n",
       "                0.2,\n",
       "                0.2,\n",
       "                0.4,\n",
       "                0.3,\n",
       "                0.2,\n",
       "                0.2,\n",
       "                0.1,\n",
       "                0.2,\n",
       "                0.2,\n",
       "                0.1,\n",
       "                0.1,\n",
       "                0.2,\n",
       "                0.4,\n",
       "                0.4,\n",
       "                0.3,\n",
       "                0.3,\n",
       "                0.3,\n",
       "                0.2,\n",
       "                0.4,\n",
       "                0.2,\n",
       "                0.5,\n",
       "                0.2,\n",
       "                0.2,\n",
       "                0.4,\n",
       "                0.2,\n",
       "                0.2,\n",
       "                0.2,\n",
       "                0.2,\n",
       "                0.4,\n",
       "                0.1,\n",
       "                0.2,\n",
       "                0.2,\n",
       "                0.2,\n",
       "                0.2,\n",
       "                0.1,\n",
       "                0.2,\n",
       "                0.2,\n",
       "                0.3,\n",
       "                0.3,\n",
       "                0.2,\n",
       "                0.6,\n",
       "                0.4,\n",
       "                0.3,\n",
       "                0.2,\n",
       "                0.2,\n",
       "                0.2,\n",
       "                0.2\n",
       "            ],\n",
       "            [\n",
       "                'versicolor',\n",
       "                1.4,\n",
       "                1.5,\n",
       "                1.5,\n",
       "                1.3,\n",
       "                1.5,\n",
       "                1.3,\n",
       "                1.6,\n",
       "                1.0,\n",
       "                1.3,\n",
       "                1.4,\n",
       "                1.0,\n",
       "                1.5,\n",
       "                1.0,\n",
       "                1.4,\n",
       "                1.3,\n",
       "                1.4,\n",
       "                1.5,\n",
       "                1.0,\n",
       "                1.5,\n",
       "                1.1,\n",
       "                1.8,\n",
       "                1.3,\n",
       "                1.5,\n",
       "                1.2,\n",
       "                1.3,\n",
       "                1.4,\n",
       "                1.4,\n",
       "                1.7,\n",
       "                1.5,\n",
       "                1.0,\n",
       "                1.1,\n",
       "                1.0,\n",
       "                1.2,\n",
       "                1.6,\n",
       "                1.5,\n",
       "                1.6,\n",
       "                1.5,\n",
       "                1.3,\n",
       "                1.3,\n",
       "                1.3,\n",
       "                1.2,\n",
       "                1.4,\n",
       "                1.2,\n",
       "                1.0,\n",
       "                1.3,\n",
       "                1.2,\n",
       "                1.3,\n",
       "                1.3,\n",
       "                1.1,\n",
       "                1.3\n",
       "            ]\n",
       "        ]\n",
       "    }\n",
       "};\n",
       "                data['bindto']='#chart'\n",
       "                c3.generate(data);\n",
       "            </script>\n",
       "        \" src=\"\" width=\"800\" height=\"420\" sandbox=\"allow-scripts\"></iframe>"
      ],
      "text/plain": [
       "<IPython.core.display.HTML object>"
      ]
     },
     "execution_count": 134,
     "metadata": {},
     "output_type": "execute_result"
    }
   ],
   "source": [
    "c3_plotter = iplotter.C3Plotter()\n",
    "c3_plotter.plot(chart)"
   ]
  },
  {
   "cell_type": "code",
   "execution_count": 135,
   "metadata": {
    "code_folding": [
     2,
     7
    ],
    "collapsed": true,
    "deletable": true,
    "editable": true
   },
   "outputs": [],
   "source": [
    "chart = {\n",
    "    \"data\": {\n",
    "        \"columns\": [\n",
    "            ['dogs', 300, 350, 300, 0, 0, 120],\n",
    "            ['cats', 130, 100, 140, 200, 150, 50],\n",
    "            ['people', 180, 75, 265, 100, 50, 100]\n",
    "        ],\n",
    "        \"types\": {\n",
    "            \"dogs\": 'area-spline',\n",
    "            \"cats\": 'area-spline',\n",
    "            \"people\": 'area-spline'\n",
    "        },\n",
    "        \"groups\": [['dogs', 'cats', 'people']]\n",
    "    }\n",
    "}\n"
   ]
  },
  {
   "cell_type": "code",
   "execution_count": 6,
   "metadata": {
    "collapsed": false,
    "deletable": true,
    "editable": true
   },
   "outputs": [
    {
     "data": {
      "text/html": [
       "<iframe srcdoc=\"\n",
       "            <!-- Load c3.css -->\n",
       "            <link href='https://cdnjs.cloudflare.com/ajax/libs/c3/0.4.10/c3.min.css' rel='stylesheet' type='text/css'/>\n",
       "\n",
       "            <!-- Load d3.js and c3.js -->\n",
       "            <script src='http://d3js.org/d3.v3.min.js' charset='utf-8'></script>\n",
       "            <script src='http://cdnjs.cloudflare.com/ajax/libs/c3/0.4.10/c3.min.js'></script>\n",
       "\n",
       "        \n",
       "            <div id=chart style='width: 100%; height: 100%'></div>\n",
       "            <script>\n",
       "                var chart = document.getElementById('chart');\n",
       "                var data = {\n",
       "    'data': {\n",
       "        'types': {\n",
       "            'people': 'area-spline',\n",
       "            'cats': 'area-spline',\n",
       "            'dogs': 'area-spline'\n",
       "        },\n",
       "        'columns': [\n",
       "            [\n",
       "                'dogs',\n",
       "                300,\n",
       "                350,\n",
       "                300,\n",
       "                0,\n",
       "                0,\n",
       "                120\n",
       "            ],\n",
       "            [\n",
       "                'cats',\n",
       "                130,\n",
       "                100,\n",
       "                140,\n",
       "                200,\n",
       "                150,\n",
       "                50\n",
       "            ],\n",
       "            [\n",
       "                'people',\n",
       "                180,\n",
       "                75,\n",
       "                265,\n",
       "                100,\n",
       "                50,\n",
       "                100\n",
       "            ]\n",
       "        ],\n",
       "        'groups': [\n",
       "            [\n",
       "                'dogs',\n",
       "                'cats',\n",
       "                'people'\n",
       "            ]\n",
       "        ]\n",
       "    }\n",
       "};\n",
       "                data['bindto']='#chart'\n",
       "                c3.generate(data);\n",
       "            </script>\n",
       "        \" src=\"\" width=\"800\" height=\"420\" sandbox=\"allow-scripts\"></iframe>"
      ],
      "text/plain": [
       "<IPython.core.display.HTML object>"
      ]
     },
     "execution_count": 6,
     "metadata": {},
     "output_type": "execute_result"
    }
   ],
   "source": [
    "c3_plotter = iplotter.C3Plotter()\n",
    "c3_plotter.plot(chart)"
   ]
  },
  {
   "cell_type": "markdown",
   "metadata": {
    "deletable": true,
    "editable": true
   },
   "source": [
    "## Chart.js\n",
    "\n",
    "Chart.js requires a slightly different input format, but works similarly. Chart.js is a canvas charting library so it can handle many points! "
   ]
  },
  {
   "cell_type": "code",
   "execution_count": 7,
   "metadata": {
    "collapsed": false,
    "deletable": true,
    "editable": true
   },
   "outputs": [],
   "source": [
    "labels = [\"Red\", \"Blue\", \"Yellow\", \"Green\", \"Purple\", \"Orange\"]\n",
    "values = [{\"x\":20, \"y\": 30, \"r\":15}, {\"x\":40, \"y\":10, \"r\":10}]"
   ]
  },
  {
   "cell_type": "code",
   "execution_count": 18,
   "metadata": {
    "code_folding": [
     3,
     13
    ],
    "collapsed": false,
    "deletable": true,
    "editable": true
   },
   "outputs": [],
   "source": [
    "data = {    \n",
    "    \"labels\": labels,\n",
    "    \"datasets\": [\n",
    "        {\n",
    "            \"label\": \"My First dataset\",\n",
    "            \"fillColor\": \"rgba(220,220,220,0.2)\",\n",
    "            \"strokeColor\": \"rgba(220,220,220,1)\",\n",
    "            \"pointColor\": \"rgba(220,220,220,1)\",\n",
    "            \"pointStrokeColor\": \"#fff\",\n",
    "            \"pointHighlightFill\": \"#fff\",\n",
    "            \"pointHighlightStroke\": \"rgba(220,220,220,1)\",\n",
    "            \"data\": [65, 59, 90, 81, 56, 55, 40]\n",
    "        },\n",
    "        {\n",
    "            \"label\": \"My Second dataset\",\n",
    "            \"fillColor\": \"rgba(151,187,205,0.2)\",\n",
    "            \"strokeColor\": \"rgba(151,187,205,1)\",\n",
    "            \"pointColor\": \"rgba(151,187,205,1)\",\n",
    "            \"pointStrokeColor\": \"#fff\",\n",
    "            \"pointHighlightFill\": \"#fff\",\n",
    "            \"pointHighlightStroke\": \"rgba(151,187,205,1)\",\n",
    "            \"data\": [28, 48, 40, 19, 96, 27, 100]\n",
    "        }\n",
    "    ]\n",
    "}"
   ]
  },
  {
   "cell_type": "code",
   "execution_count": 38,
   "metadata": {
    "collapsed": false,
    "deletable": true,
    "editable": true,
    "scrolled": false
   },
   "outputs": [
    {
     "data": {
      "text/html": [
       "<iframe srcdoc=\"\n",
       "                <!-- Load Charts.js -->\n",
       "               <script src='https://cdnjs.cloudflare.com/ajax/libs/Chart.js/1.0.2/Chart.min.js'></script>\n",
       "        \n",
       "            <canvas id='chart'></canvas>\n",
       "            <script>\n",
       "                var ctx = document.getElementById('chart').getContext('2d');\n",
       "                ctx.canvas.width  = window.innerWidth;\n",
       "                ctx.canvas.height = window.innerHeight;\n",
       "                var myNewChart = new Chart(ctx).Radar({\n",
       "    'datasets': [\n",
       "        {\n",
       "            'pointHighlightFill': '#fff',\n",
       "            'pointColor': 'rgba(151,187,205,1)',\n",
       "            'label': 'Sample dataset',\n",
       "            'pointStrokeColor': '#fff',\n",
       "            'data': [\n",
       "                1,\n",
       "                10,\n",
       "                3,\n",
       "                2,\n",
       "                7,\n",
       "                8\n",
       "            ],\n",
       "            'fillColor': 'rgba(151,187,205,0.6)',\n",
       "            'strokeColor': 'rgba(151,187,205,1)',\n",
       "            'pointHighlightStroke': 'rgba(151,187,205,1)'\n",
       "        }\n",
       "    ],\n",
       "    'labels': [\n",
       "        1,\n",
       "        2,\n",
       "        3,\n",
       "        4,\n",
       "        5,\n",
       "        6\n",
       "    ]\n",
       "});\n",
       "            </script>\n",
       "        \" src=\"\" width=\"600\" height=\"600\" sandbox=\"allow-scripts\"></iframe>"
      ],
      "text/plain": [
       "<IPython.core.display.HTML object>"
      ]
     },
     "execution_count": 38,
     "metadata": {},
     "output_type": "execute_result"
    }
   ],
   "source": [
    "chart_js = iplotter.ChartsJSPlotter()\n",
    "\n",
    "chart_js.plot(data, chart_type=\"Radar\", w=600, h=600)"
   ]
  },
  {
   "cell_type": "markdown",
   "metadata": {
    "deletable": true,
    "editable": true
   },
   "source": [
    "## Google Charts\n",
    "License is  Creative Commons Attribution 3.0 License, which requires attribution, but allows for free commercial/personal use. No data is not sent to a Google server, but rendered in the browser. "
   ]
  },
  {
   "cell_type": "code",
   "execution_count": 54,
   "metadata": {
    "code_folding": [
     8
    ],
    "collapsed": false,
    "deletable": true,
    "editable": true
   },
   "outputs": [],
   "source": [
    "data = [\n",
    "    ['Genre', 'Fantasy & Sci Fi', 'Romance', 'Mystery/Crime', 'General',\n",
    "     'Western', 'Literature', {\"role\": 'annotation'}],\n",
    "    ['2010', 10, 24, 20, 32, 18, 5, ''],\n",
    "    ['2020', 16, 22, 23, 30, 16, 9, ''],\n",
    "    ['2030', 28, 19, 29, 30, 12, 13, '']\n",
    "]\n",
    "\n",
    "options = {\n",
    "    \"width\": 600,\n",
    "    \"height\": 400,\n",
    "    \"legend\": {\"position\": 'top', \"maxLines\": 3},\n",
    "    \"bar\": {\"groupWidth\": '75%'},\n",
    "    \"isStacked\": \"true\",\n",
    "}"
   ]
  },
  {
   "cell_type": "code",
   "execution_count": 58,
   "metadata": {
    "collapsed": false,
    "deletable": true,
    "editable": true
   },
   "outputs": [
    {
     "data": {
      "text/html": [
       "<iframe srcdoc=\"\n",
       "                <!-- Load Google Charts -->\n",
       "                <script type='text/javascript' src='https://www.gstatic.com/charts/loader.js'></script>\n",
       "        \n",
       "            <div id=chart style='width: 100%; height: 100%' ></div>\n",
       "            <script type='text/javascript'>\n",
       "                google.charts.load('current', {'packages':['corechart']});\n",
       "                google.charts.setOnLoadCallback(drawChart);\n",
       "\n",
       "                function drawChart() {\n",
       "                    var data = google.visualization.arrayToDataTable([\n",
       "    [\n",
       "        'Genre',\n",
       "        'Fantasy & Sci Fi',\n",
       "        'Romance',\n",
       "        'Mystery/Crime',\n",
       "        'General',\n",
       "        'Western',\n",
       "        'Literature',\n",
       "        {\n",
       "            'role': 'annotation'\n",
       "        }\n",
       "    ],\n",
       "    [\n",
       "        '2010',\n",
       "        10,\n",
       "        24,\n",
       "        20,\n",
       "        32,\n",
       "        18,\n",
       "        5,\n",
       "        ''\n",
       "    ],\n",
       "    [\n",
       "        '2020',\n",
       "        16,\n",
       "        22,\n",
       "        23,\n",
       "        30,\n",
       "        16,\n",
       "        9,\n",
       "        ''\n",
       "    ],\n",
       "    [\n",
       "        '2030',\n",
       "        28,\n",
       "        19,\n",
       "        29,\n",
       "        30,\n",
       "        12,\n",
       "        13,\n",
       "        ''\n",
       "    ]\n",
       "]\n",
       "                    );\n",
       "\n",
       "                    var chart = new google.visualization.ColumnChart(document.getElementById('chart'));\n",
       "\n",
       "                    chart.draw(data, {\n",
       "    'isStacked': 'true',\n",
       "    'height': 400,\n",
       "    'bar': {\n",
       "        'groupWidth': '75%'\n",
       "    },\n",
       "    'legend': {\n",
       "        'position': 'top',\n",
       "        'maxLines': 3\n",
       "    },\n",
       "    'width': 600\n",
       "});\n",
       "                }\n",
       "        </script>\n",
       "    \" src=\"\" width=\"800\" height=\"420\" sandbox=\"allow-scripts\"></iframe>"
      ],
      "text/plain": [
       "<IPython.core.display.HTML object>"
      ]
     },
     "execution_count": 58,
     "metadata": {},
     "output_type": "execute_result"
    }
   ],
   "source": [
    "gc_plotter = iplotter.GCPlotter()\n",
    "gc_plotter.plot(data, chart_type=\"column\", options=options)"
   ]
  },
  {
   "cell_type": "markdown",
   "metadata": {
    "deletable": true,
    "editable": true
   },
   "source": [
    "# When Rendering Fails"
   ]
  },
  {
   "cell_type": "markdown",
   "metadata": {
    "deletable": true,
    "editable": true
   },
   "source": [
    "sometimes, iPlotter just doesn't quite render... I couldn't get the Bubble Chart or Polar Area Chart documented on Chart.js to render or the pie chart in Google Charts."
   ]
  },
  {
   "cell_type": "code",
   "execution_count": 70,
   "metadata": {
    "collapsed": true,
    "deletable": true,
    "editable": true
   },
   "outputs": [],
   "source": [
    "data = [\n",
    "          ['Task', 'Hours per Day'],\n",
    "          ['Work',     11],\n",
    "          ['Eat',      2],\n",
    "          ['Commute',  2],\n",
    "          ['Watch TV', 2],\n",
    "          ['Sleep',    7]\n",
    "]\n",
    "\n",
    "options = {\n",
    "\"title\": \"hi\"\n",
    "}"
   ]
  },
  {
   "cell_type": "code",
   "execution_count": 71,
   "metadata": {
    "collapsed": false,
    "deletable": true,
    "editable": true,
    "scrolled": true
   },
   "outputs": [
    {
     "data": {
      "text/html": [
       "<iframe srcdoc=\"\n",
       "                <!-- Load Google Charts -->\n",
       "                <script type='text/javascript' src='https://www.gstatic.com/charts/loader.js'></script>\n",
       "        \n",
       "            <div id=chart style='width: 100%; height: 100%' ></div>\n",
       "            <script type='text/javascript'>\n",
       "                google.charts.load('current', {'packages':['corechart']});\n",
       "                google.charts.setOnLoadCallback(drawChart);\n",
       "\n",
       "                function drawChart() {\n",
       "                    var data = google.visualization.arrayToDataTable([\n",
       "    [\n",
       "        'Task',\n",
       "        'Hours per Day'\n",
       "    ],\n",
       "    [\n",
       "        'Work',\n",
       "        11\n",
       "    ],\n",
       "    [\n",
       "        'Eat',\n",
       "        2\n",
       "    ],\n",
       "    [\n",
       "        'Commute',\n",
       "        2\n",
       "    ],\n",
       "    [\n",
       "        'Watch TV',\n",
       "        2\n",
       "    ],\n",
       "    [\n",
       "        'Sleep',\n",
       "        7\n",
       "    ]\n",
       "]\n",
       "                    );\n",
       "\n",
       "                    var chart = new google.visualization.PiechartChart(document.getElementById('chart'));\n",
       "\n",
       "                    chart.draw(data, {\n",
       "    'title': 'hi'\n",
       "});\n",
       "                }\n",
       "        </script>\n",
       "    \" src=\"\" width=\"800\" height=\"420\" sandbox=\"allow-scripts\"></iframe>"
      ],
      "text/plain": [
       "<IPython.core.display.HTML object>"
      ]
     },
     "execution_count": 71,
     "metadata": {},
     "output_type": "execute_result"
    }
   ],
   "source": [
    "gc_plotter = iplotter.GCPlotter()\n",
    "gc_plotter.plot(data, chart_type=\"piechart\", options=options)\n",
    "# sad face :<"
   ]
  },
  {
   "cell_type": "markdown",
   "metadata": {
    "collapsed": true,
    "deletable": true,
    "editable": true
   },
   "source": [
    "In those cases, call in the JavaScript:\n",
    "(from [this gist](https://gist.github.com/fabriziopandini/7e8efdd7063a518a2d2d))"
   ]
  },
  {
   "cell_type": "code",
   "execution_count": 136,
   "metadata": {
    "code_folding": [
     6
    ],
    "collapsed": true,
    "deletable": true,
    "editable": true
   },
   "outputs": [],
   "source": [
    "import json\n",
    "from IPython.display import display, Javascript\n",
    "\n",
    "def chartjs(chartType, data, options={}, width=\"500px\", height=\"400px\"):\n",
    "    \"\"\" Custom iphython extension allowing chartjs visualizations\n",
    "    \n",
    "    Usage:\n",
    "        chartjs(chartType, data, options, width=1000, height=400)\n",
    "    \n",
    "    Args:\n",
    "        chartType: one of the supported chart type options (line, bar, radar, polarArea, pie, doughnut)\n",
    "        data: a python dictionary with datasets to be rapresented and related visualization settings, as expected \n",
    "              by chart js (see data parameter in http://www.chartjs.org/docs/)\n",
    "        options: defaults {}; a python dictionary with additional graph options, as expected \n",
    "              by chart js (see options parameter in http://www.chartjs.org/docs/)\n",
    "        width: default 700px\n",
    "        height: default 400px\n",
    "        \n",
    "        NB. data and options structure depends on the chartType\n",
    "    \"\"\"\n",
    "    display(\n",
    "        Javascript(\"\"\"\n",
    "            require(['https://cdnjs.cloudflare.com/ajax/libs/Chart.js/1.0.2/Chart.min.js'], function(chartjs){\n",
    "                var chartType=\"%s\";\n",
    "                var data=%s;\n",
    "                var options=%s;\n",
    "                var width=\"%s\";\n",
    "                var height=\"%s\";\n",
    "                \n",
    "                element.append('<canvas width=\"' + width + '\" height=\"' + height + '\">s</canvas>');\n",
    "                var ctx = element.children()[0].getContext(\"2d\");\n",
    "                \n",
    "                switch(chartType.toLowerCase()) {\n",
    "                    \n",
    "                    case \"line\":\n",
    "                        var myChart = new Chart(ctx).Line(data, options);\n",
    "                        break;\n",
    "                    case \"bar\":\n",
    "                        var myChart = new Chart(ctx).Bar(data, options);\n",
    "                        break;\n",
    "                    case \"radar\":\n",
    "                        var myChart = new Chart(ctx).Radar(data, options);\n",
    "                        break;\n",
    "                    case \"polarArea\":\n",
    "                        var myChart = new Chart(ctx).PolarArea(data, options);\n",
    "                        break;\n",
    "                    case \"pie\":\n",
    "                        var myChart = new Chart(ctx).Pie(data, options);\n",
    "                        break;\n",
    "                    case \"doughnut\":\n",
    "                        var myChart = new Chart(ctx).Doughnut(data, options);\n",
    "                        break;\n",
    "                }\n",
    "            });\n",
    "            \"\"\" % (chartType, json.dumps(data), json.dumps(options), width, height)\n",
    "        )\n",
    "    )"
   ]
  },
  {
   "cell_type": "markdown",
   "metadata": {
    "deletable": true,
    "editable": true
   },
   "source": [
    "The above is Javascript in a string with the data converted from Python dictionaries into strings. "
   ]
  },
  {
   "cell_type": "code",
   "execution_count": 145,
   "metadata": {
    "code_folding": [
     3
    ],
    "collapsed": false,
    "deletable": true,
    "editable": true
   },
   "outputs": [
    {
     "data": {
      "application/javascript": [
       "\n",
       "            require(['https://cdnjs.cloudflare.com/ajax/libs/Chart.js/1.0.2/Chart.min.js'], function(chartjs){\n",
       "                var chartType=\"Line\";\n",
       "                var data={\"datasets\": [{\"pointHighlightFill\": \"#fff\", \"pointColor\": \"rgba(151,187,205,1)\", \"label\": \"Sample dataset\", \"pointStrokeColor\": \"#fff\", \"data\": [1, 10, 3, 2, 7, 8], \"fillColor\": \"#ffce56\", \"strokeColor\": \"rgba(151,187,205,1)\", \"pointHighlightStroke\": \"rgba(151,187,205,1)\"}], \"labels\": [1, 2, 3, 4, 5, 6]};\n",
       "                var options={};\n",
       "                var width=\"600\";\n",
       "                var height=\"400px\";\n",
       "                \n",
       "                element.append('<canvas width=\"' + width + '\" height=\"' + height + '\">s</canvas>');\n",
       "                var ctx = element.children()[0].getContext(\"2d\");\n",
       "                \n",
       "                switch(chartType.toLowerCase()) {\n",
       "                    \n",
       "                    case \"line\":\n",
       "                        var myChart = new Chart(ctx).Line(data, options);\n",
       "                        break;\n",
       "                    case \"bar\":\n",
       "                        var myChart = new Chart(ctx).Bar(data, options);\n",
       "                        break;\n",
       "                    case \"radar\":\n",
       "                        var myChart = new Chart(ctx).Radar(data, options);\n",
       "                        break;\n",
       "                    case \"polarArea\":\n",
       "                        var myChart = new Chart(ctx).PolarArea(data, options);\n",
       "                        break;\n",
       "                    case \"pie\":\n",
       "                        var myChart = new Chart(ctx).Pie(data, options);\n",
       "                        break;\n",
       "                    case \"doughnut\":\n",
       "                        var myChart = new Chart(ctx).Doughnut(data, options);\n",
       "                        break;\n",
       "                }\n",
       "            });\n",
       "            "
      ],
      "text/plain": [
       "<IPython.core.display.Javascript object>"
      ]
     },
     "metadata": {},
     "output_type": "display_data"
    }
   ],
   "source": [
    "# to run \n",
    "data = {\n",
    "    \"labels\": [1,2,3,4,5,6],\n",
    "    \"datasets\": [\n",
    "        {\n",
    "            \"label\": \"Sample dataset\",\n",
    "            \"fillColor\": \"#ffce56\",\n",
    "            \"strokeColor\": \"rgba(151,187,205,1)\",\n",
    "            \"pointColor\": \"rgba(151,187,205,1)\",\n",
    "            \"pointStrokeColor\": \"#fff\",\n",
    "            \"pointHighlightFill\": \"#fff\",\n",
    "            \"pointHighlightStroke\": \"rgba(151,187,205,1)\",\n",
    "            \"data\": [1, 10, 3, 2, 7, 8]\n",
    "        }\n",
    "]}\n",
    "\n",
    "chartjs(\"Line\", data, width=600)"
   ]
  },
  {
   "cell_type": "markdown",
   "metadata": {
    "deletable": true,
    "editable": true
   },
   "source": [
    "For Google Charts, simply use Jupyter magic methods to turn the cell into html!"
   ]
  },
  {
   "cell_type": "code",
   "execution_count": 165,
   "metadata": {
    "code_folding": [],
    "collapsed": false,
    "deletable": true,
    "editable": true
   },
   "outputs": [
    {
     "data": {
      "text/html": [
       "<html>\n",
       "  <head>\n",
       "    <!--Load the AJAX API-->\n",
       "    <script type=\"text/javascript\" src=\"https://www.gstatic.com/charts/loader.js\"></script>\n",
       "    <script type=\"text/javascript\">\n",
       "\n",
       "      // Load the Visualization API and the corechart package.\n",
       "      google.charts.load('current', {'packages':['corechart']});\n",
       "\n",
       "      // Set a callback to run when the Google Visualization API is loaded.\n",
       "      google.charts.setOnLoadCallback(drawChart);\n",
       "\n",
       "      // Callback that creates and populates a data table,\n",
       "      // instantiates the pie chart, passes in the data and\n",
       "      // draws it.\n",
       "      function drawChart() {\n",
       "\n",
       "        // Create the data table.\n",
       "        var data = new google.visualization.DataTable();\n",
       "        data.addColumn('string', 'Topping');\n",
       "        data.addColumn('number', 'Slices');\n",
       "        data.addRows([\n",
       "          ['Mushrooms', 3],\n",
       "          ['Onions', 1],\n",
       "          ['Olives', 1],\n",
       "          ['Zucchini', 1],\n",
       "          ['Pepperoni', 2]\n",
       "        ]);\n",
       "\n",
       "        // Set chart options\n",
       "        var options = {'title':'How Much Pizza I Ate Last Night',\n",
       "                       'width':600,\n",
       "                       'height':400};\n",
       "\n",
       "        // Instantiate and draw our chart, passing in some options.\n",
       "        var chart = new google.visualization.PieChart(document.getElementById('chart_div'));\n",
       "        chart.draw(data, options);\n",
       "      }\n",
       "    </script>\n",
       "  </head>\n",
       "\n",
       "  <body>\n",
       "    <!--Div that will hold the pie chart-->\n",
       "    <div id=\"chart_div\" style=\"width: 700px; height: 410px;\"></div>\n",
       "  </body>\n",
       "</html>"
      ],
      "text/plain": [
       "<IPython.core.display.HTML object>"
      ]
     },
     "metadata": {},
     "output_type": "display_data"
    }
   ],
   "source": [
    "%%html\n",
    "<html>\n",
    "  <head>\n",
    "    <!--Load the AJAX API-->\n",
    "    <script type=\"text/javascript\" src=\"https://www.gstatic.com/charts/loader.js\"></script>\n",
    "    <script type=\"text/javascript\">\n",
    "\n",
    "      // Load the Visualization API and the corechart package.\n",
    "      google.charts.load('current', {'packages':['corechart']});\n",
    "\n",
    "      // Set a callback to run when the Google Visualization API is loaded.\n",
    "      google.charts.setOnLoadCallback(drawChart);\n",
    "\n",
    "      // Callback that creates and populates a data table,\n",
    "      // instantiates the pie chart, passes in the data and\n",
    "      // draws it.\n",
    "      function drawChart() {\n",
    "\n",
    "        // Create the data table.\n",
    "        var data = new google.visualization.DataTable();\n",
    "        data.addColumn('string', 'Topping');\n",
    "        data.addColumn('number', 'Slices');\n",
    "        data.addRows([\n",
    "          ['Mushrooms', 3],\n",
    "          ['Onions', 1],\n",
    "          ['Olives', 1],\n",
    "          ['Zucchini', 1],\n",
    "          ['Pepperoni', 2]\n",
    "        ]);\n",
    "\n",
    "        // Set chart options\n",
    "        var options = {'title':'How Much Pizza I Ate Last Night',\n",
    "                       'width':600,\n",
    "                       'height':400};\n",
    "\n",
    "        // Instantiate and draw our chart, passing in some options.\n",
    "        var chart = new google.visualization.PieChart(document.getElementById('chart_div'));\n",
    "        chart.draw(data, options);\n",
    "      }\n",
    "    </script>\n",
    "  </head>\n",
    "\n",
    "  <body>\n",
    "    <!--Div that will hold the pie chart-->\n",
    "    <div id=\"chart_div\" style=\"width: 700px; height: 410px;\"></div>\n",
    "  </body>\n",
    "</html>"
   ]
  },
  {
   "cell_type": "markdown",
   "metadata": {
    "deletable": true,
    "editable": true
   },
   "source": [
    "To pass Python Functions, copy the HTML into a python string to embed the python data: "
   ]
  },
  {
   "cell_type": "code",
   "execution_count": 158,
   "metadata": {
    "code_folding": [
     1
    ],
    "collapsed": true,
    "deletable": true,
    "editable": true
   },
   "outputs": [],
   "source": [
    "# python list\n",
    "data = [\n",
    "          ['Task', 'Hours per Day'],\n",
    "          ['Work',     11],\n",
    "          ['Eat',      2],\n",
    "          ['Commute',  2],\n",
    "          ['Watch TV', 2],\n",
    "          ['Sleep',    7]\n",
    "]\n",
    "\n",
    "# note the double escape to ensure apostrophe is rendered correctly\n",
    "title = \"Mark\\\\'s Daily Activities\""
   ]
  },
  {
   "cell_type": "code",
   "execution_count": 166,
   "metadata": {
    "code_folding": [],
    "collapsed": true,
    "deletable": true,
    "editable": true
   },
   "outputs": [],
   "source": [
    "html_code = \"\"\"\n",
    "<html>\n",
    "  <head>\n",
    "    <script type=\"text/javascript\" src=\"https://www.gstatic.com/charts/loader.js\"></script>\n",
    "    <script type=\"text/javascript\">\n",
    "      google.charts.load(\"current\", {packages:[\"corechart\"]});\n",
    "      google.charts.setOnLoadCallback(drawChart);\n",
    "      function drawChart() {\n",
    "        var data = google.visualization.arrayToDataTable(%s);\n",
    "\n",
    "        var options = {\n",
    "          title: '%s',\n",
    "          pieHole: 0.4,\n",
    "        };\n",
    "\n",
    "        var chart = new google.visualization.PieChart(document.getElementById('donutchart'));\n",
    "        chart.draw(data, options);\n",
    "      }\n",
    "    </script>\n",
    "  </head>\n",
    "  <body>\n",
    "    <div id=\"donutchart\" style=\"width: 900px; height: 520px;\"></div>\n",
    "  </body>\n",
    "</html>\n",
    "\"\"\"% (data, title)"
   ]
  },
  {
   "cell_type": "markdown",
   "metadata": {
    "deletable": true,
    "editable": true
   },
   "source": [
    "You can also use the newer string.format() in Python to create the html_code string. "
   ]
  },
  {
   "cell_type": "code",
   "execution_count": 167,
   "metadata": {
    "collapsed": false,
    "deletable": true,
    "editable": true
   },
   "outputs": [
    {
     "data": {
      "text/html": [
       "\n",
       "<html>\n",
       "  <head>\n",
       "    <script type=\"text/javascript\" src=\"https://www.gstatic.com/charts/loader.js\"></script>\n",
       "    <script type=\"text/javascript\">\n",
       "      google.charts.load(\"current\", {packages:[\"corechart\"]});\n",
       "      google.charts.setOnLoadCallback(drawChart);\n",
       "      function drawChart() {\n",
       "        var data = google.visualization.arrayToDataTable([['Task', 'Hours per Day'], ['Work', 11], ['Eat', 2], ['Commute', 2], ['Watch TV', 2], ['Sleep', 7]]);\n",
       "\n",
       "        var options = {\n",
       "          title: 'Mark\\'s Daily Activities',\n",
       "          pieHole: 0.4,\n",
       "        };\n",
       "\n",
       "        var chart = new google.visualization.PieChart(document.getElementById('donutchart'));\n",
       "        chart.draw(data, options);\n",
       "      }\n",
       "    </script>\n",
       "  </head>\n",
       "  <body>\n",
       "    <div id=\"donutchart\" style=\"width: 900px; height: 520px;\"></div>\n",
       "  </body>\n",
       "</html>\n"
      ],
      "text/plain": [
       "<IPython.core.display.HTML object>"
      ]
     },
     "execution_count": 167,
     "metadata": {},
     "output_type": "execute_result"
    }
   ],
   "source": [
    "# render use jupyter's html function\n",
    "HTML(html_code)"
   ]
  },
  {
   "cell_type": "markdown",
   "metadata": {
    "deletable": true,
    "editable": true
   },
   "source": [
    "Who cares? Compelling visualization reveal the message in data. Design and interactivity make for more expressive visualizations and JavaScript is the best tool for this today. "
   ]
  }
 ],
 "metadata": {
  "kernelspec": {
   "display_name": "Python 3",
   "language": "python",
   "name": "python3"
  },
  "language_info": {
   "codemirror_mode": {
    "name": "ipython",
    "version": 3
   },
   "file_extension": ".py",
   "mimetype": "text/x-python",
   "name": "python",
   "nbconvert_exporter": "python",
   "pygments_lexer": "ipython3",
   "version": "3.6.1"
  }
 },
 "nbformat": 4,
 "nbformat_minor": 1
}
